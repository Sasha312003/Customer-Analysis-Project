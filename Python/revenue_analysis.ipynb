from google.cloud import bigquery
import pandas as pd
import matplotlib.pyplot as plt


from google.colab import auth
auth.authenticate_user()

from google.cloud import bigquery
client = bigquery.Client()


# -------------------------
# 2. Динаміка місячних продажів
# -------------------------
query_monthly = """
SELECT
  EXTRACT(YEAR FROM InvoiceDate) AS Year,
  EXTRACT(MONTH FROM InvoiceDate) AS Month,
  SUM(Quantity * UnitPrice) AS Revenue
FROM `velvety-outcome-464211-n3.8.8_clean`
GROUP BY Year, Month
ORDER BY Year, Month
"""
df_monthly = client.query(query_monthly).to_dataframe()

plt.figure(figsize=(12,6))
plt.plot(df_monthly["Year"].astype(str) + "-" + df_monthly["Month"].astype(str),
         df_monthly["Revenue"], marker='o')
plt.xticks(rotation=45)
plt.title("Місячні продажі")
plt.xlabel("Місяць")
plt.ylabel("Виручка")
plt.tight_layout()
plt.show()

# -------------------------
# 3. Топ-10 товарів за виручкою
# -------------------------
query_products = """
SELECT
  Description,
  SUM(Quantity * UnitPrice) AS Revenue
FROM `velvety-outcome-464211-n3.8.8_clean`
GROUP BY Description
ORDER BY Revenue DESC
LIMIT 10
"""
df_products = client.query(query_products).to_dataframe()

plt.figure(figsize=(12,6))
plt.barh(df_products["Description"], df_products["Revenue"])
plt.gca().invert_yaxis()
plt.title("Топ-10 товарів за виручкою")
plt.xlabel("Виручка")
plt.tight_layout()
plt.show()

# -------------------------
# 4. Топ-10 країн за виручкою
# -------------------------
query_countries = """
SELECT
  Country,
  SUM(Quantity * UnitPrice) AS Revenue
FROM `velvety-outcome-464211-n3.8.8_clean`
GROUP BY Country
ORDER BY Revenue DESC
LIMIT 10
"""
df_countries = client.query(query_countries).to_dataframe()

plt.figure(figsize=(12,6))
plt.bar(df_countries["Country"], df_countries["Revenue"])
plt.xticks(rotation=45)
plt.title("Топ-10 країн за виручкою")
plt.xlabel("Країна")
plt.ylabel("Виручка")
plt.tight_layout()
plt.show()
